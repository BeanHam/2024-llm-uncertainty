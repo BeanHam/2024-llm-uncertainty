{
 "cells": [
  {
   "cell_type": "code",
   "execution_count": 1,
   "id": "f3b9b238-2f93-4b42-b918-070eba0e6a78",
   "metadata": {},
   "outputs": [],
   "source": [
    "import os\n",
    "import json\n",
    "import numpy as np\n",
    "from sklearn.model_selection import train_test_split"
   ]
  },
  {
   "cell_type": "code",
   "execution_count": 2,
   "id": "e92e249b-8420-4dd5-8b48-b787ad68a238",
   "metadata": {},
   "outputs": [],
   "source": [
    "data_path='data/'\n",
    "years = os.listdir(data_path)\n",
    "years = [y for y in years if y.isnumeric()]\n",
    "qa_data=[]\n",
    "for year in years:\n",
    "    files = os.listdir(data_path+year)\n",
    "    files = [f for f in files if f.endswith('_qa.jsonl')]\n",
    "    for file in files:\n",
    "        with open(data_path+year+'/'+file, 'r') as file:\n",
    "            for line in file:\n",
    "                qa_data.append(json.loads(line))\n",
    "\n",
    "## remove redundency\n",
    "for qa in qa_data:\n",
    "    for key in ['question_id', 'question_date','question_source','question_url']:\n",
    "        qa.pop(key)\n",
    "    if type(qa['answer'])==list:\n",
    "        qa['answer']=qa['answer'][0]"
   ]
  },
  {
   "cell_type": "code",
   "execution_count": 3,
   "id": "6f220cfc-ea51-4da9-b2af-ed67dec3ff85",
   "metadata": {},
   "outputs": [
    {
     "data": {
      "text/plain": [
       "(703, 176, 220)"
      ]
     },
     "execution_count": 3,
     "metadata": {},
     "output_type": "execute_result"
    }
   ],
   "source": [
    "## split\n",
    "train, test = train_test_split(qa_data, test_size=0.2)\n",
    "train, val = train_test_split(train, test_size=0.2)\n",
    "len(train), len(val), len(test)"
   ]
  },
  {
   "cell_type": "code",
   "execution_count": 4,
   "id": "679276c1-6692-4385-b0fe-2fee5d4eae2f",
   "metadata": {},
   "outputs": [],
   "source": [
    "with open(\"data/train.json\", 'w') as f:\n",
    "    json.dump(train, f)\n",
    "with open(\"data/val.json\", 'w') as f:\n",
    "    json.dump(val, f)\n",
    "with open(\"data/test.json\", 'w') as f:\n",
    "    json.dump(test, f)"
   ]
  }
 ],
 "metadata": {
  "kernelspec": {
   "display_name": "Python 3 (ipykernel)",
   "language": "python",
   "name": "python3"
  },
  "language_info": {
   "codemirror_mode": {
    "name": "ipython",
    "version": 3
   },
   "file_extension": ".py",
   "mimetype": "text/x-python",
   "name": "python",
   "nbconvert_exporter": "python",
   "pygments_lexer": "ipython3",
   "version": "3.11.7"
  }
 },
 "nbformat": 4,
 "nbformat_minor": 5
}
